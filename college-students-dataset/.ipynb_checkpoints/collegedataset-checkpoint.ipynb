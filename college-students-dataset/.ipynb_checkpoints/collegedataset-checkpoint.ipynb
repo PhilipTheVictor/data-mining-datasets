{
 "cells": [
  {
   "cell_type": "code",
   "execution_count": 43,
   "metadata": {},
   "outputs": [
    {
     "data": {
      "text/html": [
       "<div>\n",
       "<style>\n",
       "    .dataframe thead tr:only-child th {\n",
       "        text-align: right;\n",
       "    }\n",
       "\n",
       "    .dataframe thead th {\n",
       "        text-align: left;\n",
       "    }\n",
       "\n",
       "    .dataframe tbody tr th {\n",
       "        vertical-align: top;\n",
       "    }\n",
       "</style>\n",
       "<table border=\"1\" class=\"dataframe\">\n",
       "  <thead>\n",
       "    <tr style=\"text-align: right;\">\n",
       "      <th></th>\n",
       "      <th>Unnamed: 0</th>\n",
       "      <th>Ayear</th>\n",
       "      <th>Fall</th>\n",
       "      <th>Spring</th>\n",
       "    </tr>\n",
       "  </thead>\n",
       "  <tbody>\n",
       "    <tr>\n",
       "      <th>0</th>\n",
       "      <td>1</td>\n",
       "      <td>2001</td>\n",
       "      <td>259</td>\n",
       "      <td>246</td>\n",
       "    </tr>\n",
       "    <tr>\n",
       "      <th>1</th>\n",
       "      <td>2</td>\n",
       "      <td>2002</td>\n",
       "      <td>301</td>\n",
       "      <td>206</td>\n",
       "    </tr>\n",
       "    <tr>\n",
       "      <th>2</th>\n",
       "      <td>3</td>\n",
       "      <td>2003</td>\n",
       "      <td>343</td>\n",
       "      <td>288</td>\n",
       "    </tr>\n",
       "    <tr>\n",
       "      <th>3</th>\n",
       "      <td>4</td>\n",
       "      <td>2004</td>\n",
       "      <td>307</td>\n",
       "      <td>215</td>\n",
       "    </tr>\n",
       "    <tr>\n",
       "      <th>4</th>\n",
       "      <td>5</td>\n",
       "      <td>2005</td>\n",
       "      <td>286</td>\n",
       "      <td>230</td>\n",
       "    </tr>\n",
       "  </tbody>\n",
       "</table>\n",
       "</div>"
      ],
      "text/plain": [
       "   Unnamed: 0  Ayear  Fall  Spring\n",
       "0           1   2001   259     246\n",
       "1           2   2002   301     206\n",
       "2           3   2003   343     288\n",
       "3           4   2004   307     215\n",
       "4           5   2005   286     230"
      ]
     },
     "execution_count": 43,
     "metadata": {},
     "output_type": "execute_result"
    }
   ],
   "source": [
    "# reading data from csv dataset using pandas\n",
    "import pandas\n",
    "filename = 'math.csv'\n",
    "data = pandas.read_csv(filename)\n",
    "data.head()"
   ]
  },
  {
   "cell_type": "code",
   "execution_count": 44,
   "metadata": {},
   "outputs": [
    {
     "name": "stdout",
     "output_type": "stream",
     "text": [
      "<bound method DataFrame.any of     Unnamed: 0  Ayear   Fall  Spring\n",
      "0        False  False  False   False\n",
      "1        False  False  False   False\n",
      "2        False  False  False   False\n",
      "3        False  False  False   False\n",
      "4        False  False  False   False\n",
      "5        False  False  False   False\n",
      "6        False  False  False   False\n",
      "7        False  False  False   False\n",
      "8        False  False  False   False\n",
      "9        False  False  False   False\n",
      "10       False  False  False   False>\n"
     ]
    }
   ],
   "source": [
    "# checking whether there are any null values so we may filter them out\n",
    "print(data.isnull().any)"
   ]
  },
  {
   "cell_type": "code",
   "execution_count": 45,
   "metadata": {},
   "outputs": [
    {
     "data": {
      "text/plain": [
       "Unnamed: 0    int64\n",
       "Ayear         int64\n",
       "Fall          int64\n",
       "Spring        int64\n",
       "dtype: object"
      ]
     },
     "execution_count": 45,
     "metadata": {},
     "output_type": "execute_result"
    }
   ],
   "source": [
    "# checking data types in our data set\n",
    "data.dtypes"
   ]
  },
  {
   "cell_type": "code",
   "execution_count": 46,
   "metadata": {},
   "outputs": [
    {
     "data": {
      "text/html": [
       "<div>\n",
       "<style>\n",
       "    .dataframe thead tr:only-child th {\n",
       "        text-align: right;\n",
       "    }\n",
       "\n",
       "    .dataframe thead th {\n",
       "        text-align: left;\n",
       "    }\n",
       "\n",
       "    .dataframe tbody tr th {\n",
       "        vertical-align: top;\n",
       "    }\n",
       "</style>\n",
       "<table border=\"1\" class=\"dataframe\">\n",
       "  <thead>\n",
       "    <tr style=\"text-align: right;\">\n",
       "      <th></th>\n",
       "      <th>Unnamed: 0</th>\n",
       "      <th>Ayear</th>\n",
       "      <th>Fall</th>\n",
       "      <th>Spring</th>\n",
       "    </tr>\n",
       "  </thead>\n",
       "  <tbody>\n",
       "    <tr>\n",
       "      <th>count</th>\n",
       "      <td>11.000000</td>\n",
       "      <td>11.000000</td>\n",
       "      <td>11.000000</td>\n",
       "      <td>11.000000</td>\n",
       "    </tr>\n",
       "    <tr>\n",
       "      <th>mean</th>\n",
       "      <td>6.000000</td>\n",
       "      <td>2006.000000</td>\n",
       "      <td>285.454545</td>\n",
       "      <td>257.818182</td>\n",
       "    </tr>\n",
       "    <tr>\n",
       "      <th>std</th>\n",
       "      <td>3.316625</td>\n",
       "      <td>3.316625</td>\n",
       "      <td>28.175747</td>\n",
       "      <td>32.710299</td>\n",
       "    </tr>\n",
       "    <tr>\n",
       "      <th>min</th>\n",
       "      <td>1.000000</td>\n",
       "      <td>2001.000000</td>\n",
       "      <td>248.000000</td>\n",
       "      <td>206.000000</td>\n",
       "    </tr>\n",
       "    <tr>\n",
       "      <th>25%</th>\n",
       "      <td>3.500000</td>\n",
       "      <td>2003.500000</td>\n",
       "      <td>266.000000</td>\n",
       "      <td>238.000000</td>\n",
       "    </tr>\n",
       "    <tr>\n",
       "      <th>50%</th>\n",
       "      <td>6.000000</td>\n",
       "      <td>2006.000000</td>\n",
       "      <td>286.000000</td>\n",
       "      <td>254.000000</td>\n",
       "    </tr>\n",
       "    <tr>\n",
       "      <th>75%</th>\n",
       "      <td>8.500000</td>\n",
       "      <td>2008.500000</td>\n",
       "      <td>302.000000</td>\n",
       "      <td>285.500000</td>\n",
       "    </tr>\n",
       "    <tr>\n",
       "      <th>max</th>\n",
       "      <td>11.000000</td>\n",
       "      <td>2011.000000</td>\n",
       "      <td>343.000000</td>\n",
       "      <td>308.000000</td>\n",
       "    </tr>\n",
       "  </tbody>\n",
       "</table>\n",
       "</div>"
      ],
      "text/plain": [
       "       Unnamed: 0        Ayear        Fall      Spring\n",
       "count   11.000000    11.000000   11.000000   11.000000\n",
       "mean     6.000000  2006.000000  285.454545  257.818182\n",
       "std      3.316625     3.316625   28.175747   32.710299\n",
       "min      1.000000  2001.000000  248.000000  206.000000\n",
       "25%      3.500000  2003.500000  266.000000  238.000000\n",
       "50%      6.000000  2006.000000  286.000000  254.000000\n",
       "75%      8.500000  2008.500000  302.000000  285.500000\n",
       "max     11.000000  2011.000000  343.000000  308.000000"
      ]
     },
     "execution_count": 46,
     "metadata": {},
     "output_type": "execute_result"
    }
   ],
   "source": [
    "# calculating different parameters for dataset\n",
    "data.describe()"
   ]
  },
  {
   "cell_type": "code",
   "execution_count": 7,
   "metadata": {},
   "outputs": [
    {
     "name": "stdout",
     "output_type": "stream",
     "text": [
      "[ 259.  301.  343.  307.  286.  273.  248.  292.  250.  278.  303.] [2001 2002 2003 2004 2005 2006 2007 2008 2009 2010 2011]\n"
     ]
    },
    {
     "data": {
      "image/png": "[encoded data removed]",
      "text/plain": [
       "<matplotlib.figure.Figure at 0x8428a58>"
      ]
     },
     "metadata": {},
     "output_type": "display_data"
    }
   ],
   "source": [
    "#visualizing no. of students in fall semester using matplotlib simple plots\n",
    "\n",
    "from matplotlib import pyplot as plt\n",
    "import numpy as np\n",
    "\n",
    "# import data with loadtxt, but only the relevant floats. \n",
    "# math.csv is the file as you have given it above\n",
    "years, data = np.loadtxt('math.csv', delimiter=',', skiprows = 1, usecols = (1,2), unpack = True)\n",
    "\n",
    "years = np.int16(years)\n",
    "\n",
    "print(data, years)\n",
    "\n",
    "plt.ylabel(\"No. of students\")\n",
    "plt.xlabel(\"Year\")\n",
    "\n",
    "t = np.arange(len(data))\n",
    "plt.plot(t, data, marker='o',color='green',linestyle='solid')\n",
    "\n",
    "\n",
    "plt.grid()\n",
    "\n",
    "plt.title(\"No. of Students in Fall Semester in Maths Class\")\n",
    "\n",
    "plt.xticks([i for i, _ in enumerate(years)], years)\n",
    "plt.yticks(np.arange(0,400,50))\n",
    "plt.show()"
   ]
  },
  {
   "cell_type": "code",
   "execution_count": 8,
   "metadata": {},
   "outputs": [
    {
     "name": "stdout",
     "output_type": "stream",
     "text": [
      "[ 2001.  2002.  2003.  2004.  2005.  2006.  2007.  2008.  2009.  2010.\n",
      "  2011.] [ 246.  206.  288.  215.  230.  247.  308.  271.  285.  286.  254.]\n"
     ]
    },
    {
     "data": {
      "image/png": "[encoded data removed]",
      "text/plain": [
       "<matplotlib.figure.Figure at 0x84b1da0>"
      ]
     },
     "metadata": {},
     "output_type": "display_data"
    }
   ],
   "source": [
    "# visualizing no. of students in spring semester using matplotlib simple plots\n",
    "years, data = np.loadtxt('math.csv', delimiter=',',skiprows = 1, usecols = (1,3), unpack = True)\n",
    "print(years, data)\n",
    "\n",
    "years = np.int16(years)\n",
    "\n",
    "plt.ylabel(\"No. of Students\")\n",
    "plt.xlabel(\"Year\")\n",
    "\n",
    "t = np.arange(len(data))\n",
    "plt.plot(t, data,marker = \"o\",color='green',linestyle='solid')\n",
    "\n",
    "plt.grid()\n",
    "\n",
    "plt.title(\"No. of students in Spring semester in Maths class\")\n",
    "\n",
    "plt.xticks([i for i, _ in enumerate(years)], years)\n",
    "plt.yticks(np.arange(0,400,50))\n",
    "\n",
    "plt.show()"
   ]
  },
  {
   "cell_type": "code",
   "execution_count": 9,
   "metadata": {},
   "outputs": [
    {
     "data": {
      "image/png": "[encoded data removed]",
      "text/plain": [
       "<matplotlib.figure.Figure at 0x8261e48>"
      ]
     },
     "metadata": {},
     "output_type": "display_data"
    }
   ],
   "source": [
    "# plotting bar graphs using matplotlib\n",
    "from matplotlib import pyplot as plt\n",
    "import numpy as np\n",
    "\n",
    "years, data = np.loadtxt('math.csv', delimiter=',',skiprows = 1, usecols = (1,2), unpack = True)\n",
    "\n",
    "years = np.int16(years)\n",
    "\n",
    "plt.ylabel(\"No. of Students\")\n",
    "plt.xlabel(\"Year\")\n",
    "\n",
    "t = np.arange(len(data))\n",
    "plt.bar(t, data)\n",
    "\n",
    "plt.grid()\n",
    "\n",
    "plt.title(\"No. of students in Fall semester in Maths class\")\n",
    "\n",
    "plt.xticks([i for i, _ in enumerate(years)], years)\n",
    "plt.yticks(np.arange(0,400,50))\n",
    "\n",
    "plt.show()"
   ]
  },
  {
   "cell_type": "code",
   "execution_count": 10,
   "metadata": {},
   "outputs": [
    {
     "data": {
      "image/png": "[encoded data removed]",
      "text/plain": [
       "<matplotlib.figure.Figure at 0x85d9780>"
      ]
     },
     "metadata": {},
     "output_type": "display_data"
    }
   ],
   "source": [
    "# plotting bar graphs using matplotlib\n",
    "from matplotlib import pyplot as plt\n",
    "import numpy as np\n",
    "\n",
    "years, data = np.loadtxt('math.csv', delimiter=',',skiprows = 1, usecols = (1,3), unpack = True)\n",
    "\n",
    "years = np.int16(years)\n",
    "\n",
    "plt.ylabel(\"No. of Students\")\n",
    "plt.xlabel(\"Year\")\n",
    "\n",
    "t = np.arange(len(data))\n",
    "plt.bar(t, data)\n",
    "\n",
    "plt.grid()\n",
    "\n",
    "plt.title(\"No. of students in Spring semester in Maths class\")\n",
    "\n",
    "plt.xticks([i for i, _ in enumerate(years)], years)\n",
    "plt.yticks(np.arange(0,400,50))\n",
    "\n",
    "plt.show()"
   ]
  }
 ],
 "metadata": {
  "kernelspec": {
   "display_name": "Python 3",
   "language": "python",
   "name": "python3"
  },
  "language_info": {
   "codemirror_mode": {
    "name": "ipython",
    "version": 3
   },
   "file_extension": ".py",
   "mimetype": "text/x-python",
   "name": "python",
   "nbconvert_exporter": "python",
   "pygments_lexer": "ipython3",
   "version": "3.6.1"
  }
 },
 "nbformat": 4,
 "nbformat_minor": 2
}
